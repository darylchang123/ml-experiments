{
 "cells": [
  {
   "cell_type": "code",
   "execution_count": 32,
   "metadata": {},
   "outputs": [],
   "source": [
    "import tensorflow as tf\n",
    "import tensorflow_datasets as tfds\n",
    "from tensorflow import keras\n",
    "\n",
    "import numpy as np\n",
    "import os\n",
    "import random\n",
    "import matplotlib.pyplot as plt\n",
    "\n",
    "import importlib\n",
    "import utils.ml_utils as ml_utils"
   ]
  },
  {
   "cell_type": "markdown",
   "metadata": {},
   "source": [
    "## Set random seeds and make TF operation on GPU deterministic"
   ]
  },
  {
   "cell_type": "code",
   "execution_count": 33,
   "metadata": {},
   "outputs": [],
   "source": [
    "# Make GPU use deterministic algorithms (see https://github.com/NVIDIA/tensorflow-determinism)\n",
    "os.environ['TF_DETERMINISTIC_OPS'] = '1'\n",
    "\n",
    "# Seed value (can actually be different for each attribution step)\n",
    "seed_value = 0\n",
    "\n",
    "# 1. Set `PYTHONHASHSEED` environment variable at a fixed value\n",
    "os.environ['PYTHONHASHSEED'] = str(seed_value)\n",
    "\n",
    "# 2. Set `python` built-in pseudo-random generator at a fixed value\n",
    "random.seed(seed_value)\n",
    "\n",
    "# 3. Set `numpy` pseudo-random generator at a fixed value\n",
    "np.random.seed(seed_value)\n",
    "\n",
    "# 4. Set `tensorflow` pseudo-random generator at a fixed value\n",
    "tf.random.set_seed(seed_value)"
   ]
  },
  {
   "cell_type": "markdown",
   "metadata": {},
   "source": [
    "## Base run"
   ]
  },
  {
   "cell_type": "code",
   "execution_count": 7,
   "metadata": {},
   "outputs": [
    {
     "name": "stdout",
     "output_type": "stream",
     "text": [
      "Training Data Summary\n",
      "No. of examples: 18610\n",
      "Class: 0 :::: Count: 9378 :::: Percentage: 50.39226222461043\n",
      "Class: 1 :::: Count: 9232 :::: Percentage: 49.60773777538957\n",
      "\n",
      "Validation Data Summary\n",
      "No. of examples: 2326\n",
      "Class: 0 :::: Count: 1120 :::: Percentage: 48.15133276010318\n",
      "Class: 1 :::: Count: 1206 :::: Percentage: 51.84866723989682\n",
      "\n",
      "Test Data Summary\n",
      "No. of examples: 2326\n",
      "Class: 0 :::: Count: 1160 :::: Percentage: 49.871023215821154\n",
      "Class: 1 :::: Count: 1166 :::: Percentage: 50.128976784178846\n"
     ]
    }
   ],
   "source": [
    "# Constants\n",
    "IMG_SIZE = 128 # All images in the dataset will be resized to this size\n",
    "BATCH_SIZE = 32 # Batch size\n",
    "\n",
    "# Read training data\n",
    "train, validation, test = ml_utils.load_batched_and_resized_dataset(\n",
    "    dataset_name='cats_and_dogs',\n",
    "    batch_size=BATCH_SIZE,\n",
    "    img_size=IMG_SIZE\n",
    ")"
   ]
  },
  {
   "cell_type": "code",
   "execution_count": 4,
   "metadata": {},
   "outputs": [
    {
     "name": "stdout",
     "output_type": "stream",
     "text": [
      "Model: \"sequential\"\n",
      "_________________________________________________________________\n",
      "Layer (type)                 Output Shape              Param #   \n",
      "=================================================================\n",
      "conv2d (Conv2D)              (None, 128, 128, 4)       112       \n",
      "_________________________________________________________________\n",
      "max_pooling2d (MaxPooling2D) (None, 64, 64, 4)         0         \n",
      "_________________________________________________________________\n",
      "conv2d_1 (Conv2D)            (None, 64, 64, 8)         296       \n",
      "_________________________________________________________________\n",
      "max_pooling2d_1 (MaxPooling2 (None, 32, 32, 8)         0         \n",
      "_________________________________________________________________\n",
      "conv2d_2 (Conv2D)            (None, 32, 32, 16)        1168      \n",
      "_________________________________________________________________\n",
      "max_pooling2d_2 (MaxPooling2 (None, 16, 16, 16)        0         \n",
      "_________________________________________________________________\n",
      "conv2d_3 (Conv2D)            (None, 16, 16, 32)        4640      \n",
      "_________________________________________________________________\n",
      "max_pooling2d_3 (MaxPooling2 (None, 8, 8, 32)          0         \n",
      "_________________________________________________________________\n",
      "conv2d_4 (Conv2D)            (None, 8, 8, 64)          18496     \n",
      "_________________________________________________________________\n",
      "max_pooling2d_4 (MaxPooling2 (None, 4, 4, 64)          0         \n",
      "_________________________________________________________________\n",
      "flatten (Flatten)            (None, 1024)              0         \n",
      "_________________________________________________________________\n",
      "dense (Dense)                (None, 256)               262400    \n",
      "_________________________________________________________________\n",
      "dense_1 (Dense)              (None, 256)               65792     \n",
      "_________________________________________________________________\n",
      "dense_2 (Dense)              (None, 1)                 257       \n",
      "=================================================================\n",
      "Total params: 353,161\n",
      "Trainable params: 353,161\n",
      "Non-trainable params: 0\n",
      "_________________________________________________________________\n"
     ]
    }
   ],
   "source": [
    "model = ml_utils.build_model()\n",
    "model.summary()"
   ]
  },
  {
   "cell_type": "code",
   "execution_count": 5,
   "metadata": {},
   "outputs": [
    {
     "name": "stdout",
     "output_type": "stream",
     "text": [
      "Epoch 1/10\n",
      "582/582 [==============================] - 53s 91ms/step - loss: 0.6918 - accuracy: 0.5399 - val_loss: 0.6909 - val_accuracy: 0.5215\n",
      "Epoch 2/10\n",
      "582/582 [==============================] - 9s 15ms/step - loss: 0.6874 - accuracy: 0.5794 - val_loss: 0.6815 - val_accuracy: 0.6006\n",
      "Epoch 3/10\n",
      "582/582 [==============================] - 9s 15ms/step - loss: 0.6772 - accuracy: 0.5996 - val_loss: 0.6647 - val_accuracy: 0.5967\n",
      "Epoch 4/10\n",
      "582/582 [==============================] - 9s 15ms/step - loss: 0.6640 - accuracy: 0.6069 - val_loss: 0.6516 - val_accuracy: 0.6285\n",
      "Epoch 5/10\n",
      "582/582 [==============================] - 9s 15ms/step - loss: 0.6521 - accuracy: 0.6239 - val_loss: 0.6347 - val_accuracy: 0.6492\n",
      "Epoch 6/10\n",
      "582/582 [==============================] - 9s 15ms/step - loss: 0.6395 - accuracy: 0.6375 - val_loss: 0.6217 - val_accuracy: 0.6595\n",
      "Epoch 7/10\n",
      "582/582 [==============================] - 9s 15ms/step - loss: 0.6256 - accuracy: 0.6553 - val_loss: 0.6070 - val_accuracy: 0.6715\n",
      "Epoch 8/10\n",
      "582/582 [==============================] - 9s 15ms/step - loss: 0.6031 - accuracy: 0.6753 - val_loss: 0.5834 - val_accuracy: 0.6978\n",
      "Epoch 9/10\n",
      "582/582 [==============================] - 9s 15ms/step - loss: 0.5713 - accuracy: 0.7025 - val_loss: 0.5575 - val_accuracy: 0.7132\n",
      "Epoch 10/10\n",
      "582/582 [==============================] - 9s 15ms/step - loss: 0.5438 - accuracy: 0.7223 - val_loss: 0.5245 - val_accuracy: 0.7472\n"
     ]
    }
   ],
   "source": [
    "# Start training\n",
    "history = model.fit(\n",
    "    train,\n",
    "    epochs=10,\n",
    "    validation_data=validation\n",
    ")"
   ]
  },
  {
   "cell_type": "code",
   "execution_count": 6,
   "metadata": {},
   "outputs": [
    {
     "data": {
      "image/png": "[encoded data removed]",
      "text/plain": [
       "<Figure size 800x800 with 2 Axes>"
      ]
     },
     "metadata": {
      "needs_background": "light"
     },
     "output_type": "display_data"
    }
   ],
   "source": [
    "# Plot diagnostic learning curves\n",
    "ml_utils.summarize_diagnostics(history)"
   ]
  },
  {
   "cell_type": "markdown",
   "metadata": {},
   "source": [
    "## Identical runs"
   ]
  },
  {
   "cell_type": "markdown",
   "metadata": {},
   "source": [
    "**tl;dr Runs are very close (<0.2% difference in val accuracy between runs). Difference is due to usage of GPU.**\n",
    "\n",
    "First, we perform a sanity check to ensure that multiple identical runs give the same result. Unfortunately, identical runs give slightly varying results, despite using  I checked that initializations and training data orders are the same across runs. The problem seems to be related to the GPU, since when we use the CPU instead, identical runs give identical results."
   ]
  },
  {
   "cell_type": "code",
   "execution_count": 31,
   "metadata": {},
   "outputs": [
    {
     "name": "stdout",
     "output_type": "stream",
     "text": [
      "582/582 [==============================] - 12s 21ms/step - loss: 0.6919 - accuracy: 0.5432 - val_loss: 0.6902 - val_accuracy: 0.6019\n",
      "582/582 [==============================] - 12s 21ms/step - loss: 0.6919 - accuracy: 0.5431 - val_loss: 0.6902 - val_accuracy: 0.6006\n",
      "582/582 [==============================] - 13s 22ms/step - loss: 0.6919 - accuracy: 0.5436 - val_loss: 0.6902 - val_accuracy: 0.6002\n",
      "582/582 [==============================] - 12s 21ms/step - loss: 0.6919 - accuracy: 0.5438 - val_loss: 0.6902 - val_accuracy: 0.6006\n",
      "582/582 [==============================] - 12s 21ms/step - loss: 0.6919 - accuracy: 0.5434 - val_loss: 0.6902 - val_accuracy: 0.5989\n"
     ]
    }
   ],
   "source": [
    "initialization_weights = []\n",
    "\n",
    "for i in range(5):    \n",
    "    # Build and train model\n",
    "    model = ml_utils.build_model()\n",
    "    initialization_weights.append([w.value() for w in model.weights])\n",
    "    history = model.fit(\n",
    "        train,\n",
    "        epochs=1,\n",
    "        validation_data=validation\n",
    "    )"
   ]
  },
  {
   "cell_type": "code",
   "execution_count": 64,
   "metadata": {},
   "outputs": [
    {
     "name": "stdout",
     "output_type": "stream",
     "text": [
      "Weights equal =  tf.Tensor(True, shape=(), dtype=bool)\n"
     ]
    }
   ],
   "source": [
    "# Check that initialization weights are the same\n",
    "from functools import reduce\n",
    "\n",
    "weights_equal = True\n",
    "\n",
    "#Iterate through iterations\n",
    "for i in range(4):\n",
    "    curr_weights = initialization_weights[i]\n",
    "    next_weights = initialization_weights[i+1]\n",
    "\n",
    "    # Iterate through layers\n",
    "    for j in range(len(curr_weights)):\n",
    "        weights_equal &= tf.math.reduce_all(tf.math.equal(curr_weights[j], next_weights[j]))\n",
    "print(\"Weights equal = \", weights_equal)"
   ]
  },
  {
   "cell_type": "code",
   "execution_count": 48,
   "metadata": {},
   "outputs": [
    {
     "name": "stdout",
     "output_type": "stream",
     "text": [
      "582/582 [==============================] - 157s 270ms/step - loss: 0.6919 - accuracy: 0.5438 - val_loss: 0.6902 - val_accuracy: 0.5985\n",
      "582/582 [==============================] - 157s 269ms/step - loss: 0.6919 - accuracy: 0.5438 - val_loss: 0.6902 - val_accuracy: 0.5985\n",
      "582/582 [==============================] - 156s 268ms/step - loss: 0.6919 - accuracy: 0.5438 - val_loss: 0.6902 - val_accuracy: 0.5985\n",
      "582/582 [==============================] - 157s 269ms/step - loss: 0.6919 - accuracy: 0.5438 - val_loss: 0.6902 - val_accuracy: 0.5985\n",
      "582/582 [==============================] - 160s 275ms/step - loss: 0.6919 - accuracy: 0.5438 - val_loss: 0.6902 - val_accuracy: 0.5985\n"
     ]
    }
   ],
   "source": [
    "# Try using CPU\n",
    "for i in range(5):\n",
    "    with tf.device('/cpu:0'):\n",
    "        model = ml_utils.build_model()\n",
    "        history = model.fit(\n",
    "            train,\n",
    "            epochs=1,\n",
    "            validation_data=validation\n",
    "        )"
   ]
  },
  {
   "cell_type": "code",
   "execution_count": 61,
   "metadata": {},
   "outputs": [
    {
     "name": "stdout",
     "output_type": "stream",
     "text": [
      "582/582 [==============================] - 10s 18ms/step - loss: 0.6809 - accuracy: 0.5685 - val_loss: 0.6584 - val_accuracy: 0.6096\n",
      "582/582 [==============================] - 10s 18ms/step - loss: 0.6809 - accuracy: 0.5685 - val_loss: 0.6584 - val_accuracy: 0.6096\n",
      "582/582 [==============================] - 10s 18ms/step - loss: 0.6809 - accuracy: 0.5685 - val_loss: 0.6584 - val_accuracy: 0.6096\n",
      "582/582 [==============================] - 10s 17ms/step - loss: 0.6809 - accuracy: 0.5685 - val_loss: 0.6584 - val_accuracy: 0.6096\n",
      "582/582 [==============================] - 10s 17ms/step - loss: 0.6809 - accuracy: 0.5685 - val_loss: 0.6584 - val_accuracy: 0.6096\n"
     ]
    }
   ],
   "source": [
    "final_weights = []\n",
    "\n",
    "for i in range(5):\n",
    "    model = keras.models.Sequential([\n",
    "        keras.layers.Conv2D(\n",
    "            input_shape=(IMG_SIZE,IMG_SIZE,3),\n",
    "            filters=4,\n",
    "            kernel_size=3,\n",
    "            strides=1,\n",
    "            padding='same',\n",
    "            activation='relu',\n",
    "            kernel_initializer=keras.initializers.glorot_uniform(seed=0),\n",
    "        ),\n",
    "        keras.layers.MaxPooling2D(),\n",
    "        keras.layers.Conv2D(\n",
    "            input_shape=(IMG_SIZE,IMG_SIZE,3),\n",
    "            filters=8,\n",
    "            kernel_size=3,\n",
    "            strides=1,\n",
    "            padding='same',\n",
    "            activation='relu',\n",
    "            kernel_initializer=keras.initializers.glorot_uniform(seed=0),\n",
    "        ),\n",
    "        keras.layers.MaxPooling2D(),\n",
    "#         keras.layers.Conv2D(\n",
    "#             filters=16,\n",
    "#             kernel_size=3,\n",
    "#             strides=1,\n",
    "#             padding='same',\n",
    "#             activation='relu',\n",
    "#             kernel_initializer=keras.initializers.glorot_uniform(seed=0),\n",
    "#         ),\n",
    "#         keras.layers.MaxPooling2D(),\n",
    "#         keras.layers.Conv2D(\n",
    "#             filters=32,\n",
    "#             kernel_size=3,\n",
    "#             strides=1,\n",
    "#             padding='same',\n",
    "#             activation='relu',\n",
    "#             kernel_initializer=keras.initializers.glorot_uniform(seed=0),\n",
    "#         ),\n",
    "#         keras.layers.MaxPooling2D(),\n",
    "#         keras.layers.Conv2D(\n",
    "#             filters=64,\n",
    "#             kernel_size=3,\n",
    "#             strides=1,\n",
    "#             padding='same',\n",
    "#             activation='relu',\n",
    "#             kernel_initializer=keras.initializers.glorot_uniform(seed=0),\n",
    "#         ),\n",
    "#         keras.layers.MaxPooling2D(),\n",
    "        keras.layers.Flatten(),\n",
    "        keras.layers.Dense(256, activation='relu', kernel_initializer=keras.initializers.glorot_uniform(seed=0)),\n",
    "        keras.layers.Dense(256, activation='relu', kernel_initializer=keras.initializers.glorot_uniform(seed=0)),\n",
    "        keras.layers.Dense(1, activation='sigmoid', kernel_initializer=keras.initializers.glorot_uniform(seed=0)),\n",
    "    ])\n",
    "    model.compile(optimizer=keras.optimizers.SGD(learning_rate=0.01), loss='binary_crossentropy', metrics=['accuracy'])\n",
    "    history = model.fit(\n",
    "        train,\n",
    "        epochs=1,\n",
    "        validation_data=validation\n",
    "    )\n",
    "    final_weights.append([w.value() for w in model.weights])"
   ]
  },
  {
   "cell_type": "code",
   "execution_count": null,
   "metadata": {},
   "outputs": [],
   "source": []
  }
 ],
 "metadata": {
  "kernelspec": {
   "display_name": "Python [conda env:root] *",
   "language": "python",
   "name": "conda-root-py"
  },
  "language_info": {
   "codemirror_mode": {
    "name": "ipython",
    "version": 3
   },
   "file_extension": ".py",
   "mimetype": "text/x-python",
   "name": "python",
   "nbconvert_exporter": "python",
   "pygments_lexer": "ipython3",
   "version": "3.7.6"
  }
 },
 "nbformat": 4,
 "nbformat_minor": 4
}
